{
 "cells": [
  {
   "cell_type": "code",
   "execution_count": 3,
   "metadata": {},
   "outputs": [],
   "source": [
    "%matplotlib inline\n",
    "import matplotlib.pyplot as plt\n",
    "import scipy.integrate\n",
    "import pandas as pd\n",
    "import numpy as np\n",
    "import sympy"
   ]
  },
  {
   "cell_type": "markdown",
   "metadata": {},
   "source": [
    "$\\frac{dn_{H}}{dt} = k_2n_{H^+}n_{e^-} - k_1n_{H}$\n",
    "\n",
    "$\\frac{dn_{H^+}}{dt} = k_1n_{H} - k_2n_{H^+}n_{e^-}$"
   ]
  },
  {
   "cell_type": "code",
   "execution_count": 12,
   "metadata": {},
   "outputs": [],
   "source": [
    "k1, k2, nHI, nHII, ne = sympy.sympify('k1, k2, nHI, nHII, ne')"
   ]
  },
  {
   "cell_type": "code",
   "execution_count": 13,
   "metadata": {},
   "outputs": [],
   "source": [
    "eq1 = k2 * nHII * ne - k1 * nHI\n",
    "eq2 = k1 * nHI - k2*nHII*ne"
   ]
  },
  {
   "cell_type": "code",
   "execution_count": 18,
   "metadata": {},
   "outputs": [
    {
     "data": {
      "text/plain": [
       "{nHI: k2*nHII*ne/k1}"
      ]
     },
     "execution_count": 18,
     "metadata": {},
     "output_type": "execute_result"
    }
   ],
   "source": [
    "sympy.solve([eq1, eq2], [nHI])"
   ]
  },
  {
   "cell_type": "markdown",
   "metadata": {},
   "source": [
    "$\\frac{dn_{HeI}}{dt} = k_6 n_{HeII} n_{e} - k_3 n_{HeI}$\n",
    "\n",
    "$\\frac{dn_{HeII}}{dt} = k_3 n_{HeI} + k_5 n_{HeIII} n_{e} - k_4 n_{HeII} - k_6 n_{HeII} n_{e}$\n",
    "\n",
    "$\\frac{dn_{HeIII}}{dt} = k_4 n_{HeII} - k_5 n_{HeIII} n_{e}$"
   ]
  },
  {
   "cell_type": "code",
   "execution_count": null,
   "metadata": {},
   "outputs": [],
   "source": []
  }
 ],
 "metadata": {
  "kernelspec": {
   "display_name": "Python 3",
   "language": "python",
   "name": "python3"
  },
  "language_info": {
   "codemirror_mode": {
    "name": "ipython",
    "version": 3
   },
   "file_extension": ".py",
   "mimetype": "text/x-python",
   "name": "python",
   "nbconvert_exporter": "python",
   "pygments_lexer": "ipython3",
   "version": "3.6.4"
  }
 },
 "nbformat": 4,
 "nbformat_minor": 2
}
