{
 "cells": [
  {
   "cell_type": "code",
   "execution_count": 1,
   "metadata": {},
   "outputs": [],
   "source": [
    "%matplotlib inline \n",
    "import numpy as np\n",
    "import matplotlib.pyplot as plt\n",
    "import ipywidgets"
   ]
  },
  {
   "cell_type": "code",
   "execution_count": 2,
   "metadata": {},
   "outputs": [],
   "source": [
    "N = 1024"
   ]
  },
  {
   "cell_type": "code",
   "execution_count": 10,
   "metadata": {},
   "outputs": [],
   "source": [
    "T = np.logspace(1, 8, N)"
   ]
  },
  {
   "cell_type": "code",
   "execution_count": 11,
   "metadata": {},
   "outputs": [],
   "source": [
    "T_eV = T / 11605.\n",
    "log_T_eV = np.log(T_eV)"
   ]
  },
  {
   "cell_type": "code",
   "execution_count": 90,
   "metadata": {},
   "outputs": [],
   "source": [
    "k1 = np.exp(-32.71396786375\n",
    "          + 13.53655609057*log_T_eV\n",
    "          - 5.739328757388*log_T_eV**2 \n",
    "          + 1.563154982022*log_T_eV**3\n",
    "          - 0.2877056004391*log_T_eV**4\n",
    "          + 0.03482559773736999*log_T_eV**5\n",
    "          - 0.00263197617559*log_T_eV**6\n",
    "          + 0.0001119543953861*log_T_eV**7\n",
    "          - 2.039149852002e-6*log_T_eV**8)\n",
    "k2 = 4.881357e-6*T**(-1.5)* (1.+1.14813e2 * T**(-0.407))**(-2.242)"
   ]
  },
  {
   "cell_type": "code",
   "execution_count": 21,
   "metadata": {},
   "outputs": [],
   "source": [
    "def sampling_rate(N):\n",
    "    plt.loglog(T, k1, label='k1')\n",
    "    plt.loglog(T[::N], k1[::N], label='k1s')\n",
    "    plt.loglog(T, k2, label='k2')\n",
    "    plt.loglog(T[::N], k2[::N], label='k2s')\n",
    "    plt.ylim(1e-19, 1e-7)\n",
    "    plt.legend(loc=\"lower left\")"
   ]
  },
  {
   "cell_type": "code",
   "execution_count": 25,
   "metadata": {},
   "outputs": [
    {
     "data": {
      "image/png": "[encoded data removed]",
      "text/plain": [
       "<matplotlib.figure.Figure at 0x7d0843df5b70>"
      ]
     },
     "metadata": {},
     "output_type": "display_data"
    }
   ],
   "source": [
    "sampling_rate(16)"
   ]
  },
  {
   "cell_type": "markdown",
   "metadata": {},
   "source": [
    "$dS/dt$\n",
    "\n",
    "So for atomic hydrogen, we have destruction from:\n",
    "\n",
    "* H + de\n",
    "* H + H\n",
    "* H + He\n",
    " \n",
    "For atomic hydrogen, we have formation from:\n",
    "\n",
    "* H+ + de"
   ]
  },
  {
   "cell_type": "code",
   "execution_count": 26,
   "metadata": {},
   "outputs": [],
   "source": [
    "import sympy"
   ]
  },
  {
   "cell_type": "code",
   "execution_count": 40,
   "metadata": {},
   "outputs": [],
   "source": [
    "HI, HII, HeI, HeII, HeIII, de = sympy.sympify(\n",
    "\"HI, HII, HeI, HeII, HeIII, de\")\n",
    "k1, k2, k3, k4, k5, k6, k7, k8 = sympy.sympify(\n",
    "\"k1, k2, k3, k4, k5, k6, k7, k8\")"
   ]
  },
  {
   "cell_type": "code",
   "execution_count": 79,
   "metadata": {},
   "outputs": [],
   "source": [
    "r1 = (HI + de), (HII + de + de), k1\n",
    "r2 = (HII + de), (HI), k2\n",
    "r3 = (HeI + de), (HeII + de + de), k3\n",
    "r4 = (HeII + de), (HeI), k4\n",
    "r5 = (HeII + de), (HeIII + de + de), k5\n",
    "r6 = (HeIII + de), (HeII), k6\n",
    "r7 = (HI + HI), (HII + de + HI), k7\n",
    "r8 = (HI + HeI), (HII + de + HeI), k8"
   ]
  },
  {
   "cell_type": "code",
   "execution_count": 80,
   "metadata": {},
   "outputs": [],
   "source": [
    "all_reactions = [r1, r2, r3, r4, r5, r6, r7, r8]\n",
    "all_reactions = [r1, r2]"
   ]
  },
  {
   "cell_type": "code",
   "execution_count": 81,
   "metadata": {},
   "outputs": [],
   "source": [
    "def find_formation(species):\n",
    "    rxns = []\n",
    "    for r in all_reactions:\n",
    "        if species in r[1].atoms():\n",
    "            rxns.append(r)\n",
    "    return rxns\n",
    "\n",
    "def find_destruction(species):\n",
    "    rxns = []\n",
    "    for r in all_reactions:\n",
    "        if species in r[0].atoms():\n",
    "            rxns.append(r)\n",
    "    return rxns"
   ]
  },
  {
   "cell_type": "code",
   "execution_count": 82,
   "metadata": {},
   "outputs": [
    {
     "data": {
      "text/plain": [
       "[(HII + de, HI, k2)]"
      ]
     },
     "execution_count": 82,
     "metadata": {},
     "output_type": "execute_result"
    }
   ],
   "source": [
    "find_formation(HI)"
   ]
  },
  {
   "cell_type": "code",
   "execution_count": 83,
   "metadata": {},
   "outputs": [
    {
     "data": {
      "text/plain": [
       "[(HI + de, HII + 2*de, k1)]"
      ]
     },
     "execution_count": 83,
     "metadata": {},
     "output_type": "execute_result"
    }
   ],
   "source": [
    "find_destruction(HI)"
   ]
  },
  {
   "cell_type": "code",
   "execution_count": null,
   "metadata": {},
   "outputs": [],
   "source": []
  },
  {
   "cell_type": "code",
   "execution_count": 84,
   "metadata": {},
   "outputs": [],
   "source": [
    "def get_rhs(species):\n",
    "    dSdt = 0\n",
    "    for lhs, rhs, coeff in find_formation(species):\n",
    "        term = coeff\n",
    "        for atom in list(lhs.atoms()):\n",
    "            term *= atom\n",
    "        dSdt += term\n",
    "    for lhs, rhs, coeff in find_destruction(species):\n",
    "        term = -coeff\n",
    "        for atom in list(lhs.atoms()):\n",
    "            term *= atom\n",
    "        dSdt += term\n",
    "    return dSdt"
   ]
  },
  {
   "cell_type": "code",
   "execution_count": 85,
   "metadata": {},
   "outputs": [
    {
     "data": {
      "text/plain": [
       "-HI*de*k1 + HII*de*k2"
      ]
     },
     "execution_count": 85,
     "metadata": {},
     "output_type": "execute_result"
    }
   ],
   "source": [
    "get_rhs(HI)"
   ]
  },
  {
   "cell_type": "code",
   "execution_count": 86,
   "metadata": {},
   "outputs": [
    {
     "data": {
      "text/plain": [
       "HI*de*k1 - HII*de*k2"
      ]
     },
     "execution_count": 86,
     "metadata": {},
     "output_type": "execute_result"
    }
   ],
   "source": [
    "get_rhs(HII)"
   ]
  },
  {
   "cell_type": "code",
   "execution_count": 88,
   "metadata": {},
   "outputs": [
    {
     "data": {
      "text/plain": [
       "[{HI: HII*k2/k1}, {de: 0}]"
      ]
     },
     "execution_count": 88,
     "metadata": {},
     "output_type": "execute_result"
    }
   ],
   "source": [
    "sympy.solve(get_rhs(HI))"
   ]
  },
  {
   "cell_type": "code",
   "execution_count": 95,
   "metadata": {},
   "outputs": [
    {
     "data": {
      "text/plain": [
       "(1e-07, 10.0)"
      ]
     },
     "execution_count": 95,
     "metadata": {},
     "output_type": "execute_result"
    },
    {
     "data": {
      "image/png": "[encoded data removed]",
      "text/plain": [
       "<matplotlib.figure.Figure at 0x7d083ffa7da0>"
      ]
     },
     "metadata": {},
     "output_type": "display_data"
    }
   ],
   "source": [
    "plt.loglog(T, k1/k2, \"-\")\n",
    "plt.ylim(1e-7, 10.0)"
   ]
  },
  {
   "cell_type": "code",
   "execution_count": null,
   "metadata": {},
   "outputs": [],
   "source": []
  }
 ],
 "metadata": {
  "kernelspec": {
   "display_name": "Python 3",
   "language": "python",
   "name": "python3"
  },
  "language_info": {
   "codemirror_mode": {
    "name": "ipython",
    "version": 3
   },
   "file_extension": ".py",
   "mimetype": "text/x-python",
   "name": "python",
   "nbconvert_exporter": "python",
   "pygments_lexer": "ipython3",
   "version": "3.6.5"
  }
 },
 "nbformat": 4,
 "nbformat_minor": 2
}
