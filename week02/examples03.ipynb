{
 "cells": [
  {
   "cell_type": "code",
   "execution_count": 10,
   "metadata": {},
   "outputs": [],
   "source": [
    "import numpy as np"
   ]
  },
  {
   "cell_type": "code",
   "execution_count": 11,
   "metadata": {},
   "outputs": [],
   "source": [
    "value = 8"
   ]
  },
  {
   "cell_type": "code",
   "execution_count": 12,
   "metadata": {},
   "outputs": [
    {
     "data": {
      "text/plain": [
       "'0b1000'"
      ]
     },
     "execution_count": 12,
     "metadata": {},
     "output_type": "execute_result"
    }
   ],
   "source": [
    "bin(value)"
   ]
  },
  {
   "cell_type": "code",
   "execution_count": 13,
   "metadata": {},
   "outputs": [
    {
     "data": {
      "text/plain": [
       "'0b1001'"
      ]
     },
     "execution_count": 13,
     "metadata": {},
     "output_type": "execute_result"
    }
   ],
   "source": [
    "bin(9)"
   ]
  },
  {
   "cell_type": "code",
   "execution_count": 14,
   "metadata": {},
   "outputs": [
    {
     "data": {
      "text/plain": [
       "255"
      ]
     },
     "execution_count": 14,
     "metadata": {},
     "output_type": "execute_result"
    }
   ],
   "source": [
    "0b11111111"
   ]
  },
  {
   "cell_type": "code",
   "execution_count": 15,
   "metadata": {},
   "outputs": [
    {
     "data": {
      "text/plain": [
       "'-0b11111111'"
      ]
     },
     "execution_count": 15,
     "metadata": {},
     "output_type": "execute_result"
    }
   ],
   "source": [
    "bin(-255)"
   ]
  },
  {
   "cell_type": "code",
   "execution_count": 16,
   "metadata": {},
   "outputs": [
    {
     "data": {
      "text/plain": [
       "127"
      ]
     },
     "execution_count": 16,
     "metadata": {},
     "output_type": "execute_result"
    }
   ],
   "source": [
    "0b1111111"
   ]
  },
  {
   "cell_type": "code",
   "execution_count": 18,
   "metadata": {},
   "outputs": [],
   "source": [
    "a = np.array([True, False])"
   ]
  },
  {
   "cell_type": "code",
   "execution_count": 19,
   "metadata": {},
   "outputs": [
    {
     "data": {
      "text/plain": [
       "2"
      ]
     },
     "execution_count": 19,
     "metadata": {},
     "output_type": "execute_result"
    }
   ],
   "source": [
    "a.size * a.dtype.itemsize"
   ]
  },
  {
   "cell_type": "code",
   "execution_count": 25,
   "metadata": {},
   "outputs": [],
   "source": [
    "person_dtype = np.dtype(\n",
    "    [ (\"UIN\", \"i8\"), (\"age\", \"i1\"),\n",
    "           (\"distance_home\", \"f4\"),\n",
    "           (\"number_of_friends\", \"u8\") ] )"
   ]
  },
  {
   "cell_type": "code",
   "execution_count": 26,
   "metadata": {},
   "outputs": [
    {
     "data": {
      "text/plain": [
       "21"
      ]
     },
     "execution_count": 26,
     "metadata": {},
     "output_type": "execute_result"
    }
   ],
   "source": [
    "person_dtype.itemsize"
   ]
  },
  {
   "cell_type": "code",
   "execution_count": 23,
   "metadata": {},
   "outputs": [
    {
     "data": {
      "text/plain": [
       "4"
      ]
     },
     "execution_count": 23,
     "metadata": {},
     "output_type": "execute_result"
    }
   ],
   "source": [
    "np.dtype(\"f4\").itemsize"
   ]
  },
  {
   "cell_type": "code",
   "execution_count": 24,
   "metadata": {},
   "outputs": [
    {
     "data": {
      "text/plain": [
       "4"
      ]
     },
     "execution_count": 24,
     "metadata": {},
     "output_type": "execute_result"
    }
   ],
   "source": [
    "np.dtype(\"float32\").itemsize"
   ]
  },
  {
   "cell_type": "code",
   "execution_count": 27,
   "metadata": {},
   "outputs": [],
   "source": [
    "a = np.array([255, 0], dtype=\"u1\")"
   ]
  },
  {
   "cell_type": "code",
   "execution_count": 28,
   "metadata": {},
   "outputs": [
    {
     "data": {
      "text/plain": [
       "array([255,   0], dtype=uint8)"
      ]
     },
     "execution_count": 28,
     "metadata": {},
     "output_type": "execute_result"
    }
   ],
   "source": [
    "a"
   ]
  },
  {
   "cell_type": "code",
   "execution_count": 31,
   "metadata": {},
   "outputs": [
    {
     "data": {
      "text/plain": [
       "2"
      ]
     },
     "execution_count": 31,
     "metadata": {},
     "output_type": "execute_result"
    }
   ],
   "source": [
    "a.size * a.dtype.itemsize"
   ]
  },
  {
   "cell_type": "code",
   "execution_count": 32,
   "metadata": {},
   "outputs": [
    {
     "data": {
      "text/plain": [
       "array([255], dtype=uint16)"
      ]
     },
     "execution_count": 32,
     "metadata": {},
     "output_type": "execute_result"
    }
   ],
   "source": [
    "a.view('uint16')"
   ]
  },
  {
   "cell_type": "code",
   "execution_count": 33,
   "metadata": {},
   "outputs": [
    {
     "data": {
      "text/plain": [
       "array([-1,  0], dtype=int8)"
      ]
     },
     "execution_count": 33,
     "metadata": {},
     "output_type": "execute_result"
    }
   ],
   "source": [
    "a.view('int8')"
   ]
  },
  {
   "cell_type": "code",
   "execution_count": 34,
   "metadata": {},
   "outputs": [
    {
     "data": {
      "text/plain": [
       "'0b11111111'"
      ]
     },
     "execution_count": 34,
     "metadata": {},
     "output_type": "execute_result"
    }
   ],
   "source": [
    "bin(255)"
   ]
  },
  {
   "cell_type": "code",
   "execution_count": 35,
   "metadata": {},
   "outputs": [],
   "source": [
    "import numpy as np\n",
    "ndt = np.dtype( [ (\"x\", \"f8\"), (\"y\", \"f8\"),\n",
    "                   (\"vel_x\", \"f8\"), (\"vel_y\", \"f8\") ] )\n",
    "particles = np.random.random(100).view(ndt)"
   ]
  },
  {
   "cell_type": "code",
   "execution_count": 36,
   "metadata": {},
   "outputs": [
    {
     "data": {
      "text/plain": [
       "32"
      ]
     },
     "execution_count": 36,
     "metadata": {},
     "output_type": "execute_result"
    }
   ],
   "source": [
    "ndt.itemsize"
   ]
  },
  {
   "cell_type": "code",
   "execution_count": 42,
   "metadata": {},
   "outputs": [],
   "source": [
    "arr = np.random.random(100)\n",
    "particles = arr.view(ndt)"
   ]
  },
  {
   "cell_type": "code",
   "execution_count": 43,
   "metadata": {},
   "outputs": [
    {
     "data": {
      "text/plain": [
       "array([( 0.37405598,  0.39913779,  0.58546766,  0.58848963),\n",
       "       ( 0.10677746,  0.97174065,  0.63252568,  0.93788253),\n",
       "       ( 0.27412022,  0.1416379 ,  0.0277596 ,  0.87874108),\n",
       "       ( 0.27807513,  0.94351868,  0.96951801,  0.38985789),\n",
       "       ( 0.27751623,  0.05507596,  0.57186929,  0.57445085),\n",
       "       ( 0.41456359,  0.64479366,  0.89104283,  0.909796  ),\n",
       "       ( 0.09517786,  0.82677968,  0.16755974,  0.75811463),\n",
       "       ( 0.53214087,  0.23132384,  0.15314435,  0.57956851),\n",
       "       ( 0.26600116,  0.43097223,  0.46935196,  0.63977582),\n",
       "       ( 0.80647313,  0.92793582,  0.42796856,  0.46026573),\n",
       "       ( 0.36561716,  0.6706555 ,  0.8852821 ,  0.53358489),\n",
       "       ( 0.04489482,  0.26821883,  0.22131211,  0.70108868),\n",
       "       ( 0.68366043,  0.64113833,  0.73286722,  0.6810211 ),\n",
       "       ( 0.73456454,  0.96309253,  0.25485176,  0.67924338),\n",
       "       ( 0.11255842,  0.86410681,  0.87685616,  0.62214523),\n",
       "       ( 0.47183487,  0.84648929,  0.88366445,  0.83031093),\n",
       "       ( 0.85291477,  0.71268091,  0.66223739,  0.94787085),\n",
       "       ( 0.36514741,  0.99816304,  0.68677924,  0.94155525),\n",
       "       ( 0.41629748,  0.13108619,  0.21557842,  0.58350274),\n",
       "       ( 0.50002802,  0.49583522,  0.35482599,  0.15425917),\n",
       "       ( 0.19154625,  0.34638924,  0.47373261,  0.96441236),\n",
       "       ( 0.11256974,  0.5487761 ,  0.26149746,  0.63948657),\n",
       "       ( 0.9313309 ,  0.58407562,  0.48466853,  0.83591738),\n",
       "       ( 0.17883814,  0.03739638,  0.36571089,  0.7428176 ),\n",
       "       ( 0.5925454 ,  0.34923964,  0.40795645,  0.82769964)], \n",
       "      dtype=[('x', '<f8'), ('y', '<f8'), ('vel_x', '<f8'), ('vel_y', '<f8')])"
      ]
     },
     "execution_count": 43,
     "metadata": {},
     "output_type": "execute_result"
    }
   ],
   "source": [
    "particles"
   ]
  },
  {
   "cell_type": "code",
   "execution_count": 49,
   "metadata": {},
   "outputs": [
    {
     "data": {
      "text/plain": [
       "array([  0.,   4.,   8.,  12.,  16.,  20.,  24.,  28.])"
      ]
     },
     "execution_count": 49,
     "metadata": {},
     "output_type": "execute_result"
    }
   ],
   "source": [
    "np.mgrid[0.0 : 32.0 : 4.0]"
   ]
  },
  {
   "cell_type": "code",
   "execution_count": 50,
   "metadata": {},
   "outputs": [
    {
     "data": {
      "text/plain": [
       "array([  0.        ,   3.99185264,   7.98370528,  11.97555792,\n",
       "        15.96741055,  19.95926319,  23.95111583,  27.94296847,  31.93482111])"
      ]
     },
     "execution_count": 50,
     "metadata": {},
     "output_type": "execute_result"
    }
   ],
   "source": [
    "np.mgrid[0.0 : 32.0 : 3.9918526387462398]"
   ]
  },
  {
   "cell_type": "code",
   "execution_count": 52,
   "metadata": {},
   "outputs": [
    {
     "data": {
      "text/plain": [
       "array([  0.,   2.,   4.,   6.,   8.,  10.,  12.,  14.,  16.,  18.,  20.,\n",
       "        22.,  24.,  26.,  28.,  30.,  32.])"
      ]
     },
     "execution_count": 52,
     "metadata": {},
     "output_type": "execute_result"
    }
   ],
   "source": [
    "np.mgrid[0.0 : 32.0 : 17j]"
   ]
  },
  {
   "cell_type": "code",
   "execution_count": 56,
   "metadata": {},
   "outputs": [
    {
     "data": {
      "text/plain": [
       "array([    1.        ,     2.15443469,     4.64158883,    10.        ,\n",
       "          21.5443469 ,    46.41588834,   100.        ,   215.443469  ,\n",
       "         464.15888336,  1000.        ])"
      ]
     },
     "execution_count": 56,
     "metadata": {},
     "output_type": "execute_result"
    }
   ],
   "source": [
    "np.logspace(0, 3, 10)"
   ]
  },
  {
   "cell_type": "code",
   "execution_count": 57,
   "metadata": {},
   "outputs": [
    {
     "data": {
      "text/plain": [
       "(2.1544759237315523, 2.154)"
      ]
     },
     "execution_count": 57,
     "metadata": {},
     "output_type": "execute_result"
    }
   ],
   "source": [
    "100/46.415, 215.4/100"
   ]
  },
  {
   "cell_type": "code",
   "execution_count": 58,
   "metadata": {},
   "outputs": [
    {
     "data": {
      "text/plain": [
       "array([ 0.,  0.,  0.,  0.,  0.,  0.,  0.,  0.,  0.,  0.,  0.,  0.,  0.,\n",
       "        0.,  0.,  0.,  0.,  0.,  0.,  0.,  0.,  0.,  0.,  0.])"
      ]
     },
     "execution_count": 58,
     "metadata": {},
     "output_type": "execute_result"
    }
   ],
   "source": [
    "np.zeros(24)"
   ]
  },
  {
   "cell_type": "code",
   "execution_count": 59,
   "metadata": {},
   "outputs": [
    {
     "data": {
      "text/plain": [
       "array([ 0.,  0.,  0.,  0.,  0.,  0.,  0.,  0.,  0.,  0.,  0.,  0.,  0.,\n",
       "        0.,  0.,  0.,  0.,  0.,  0.,  0.,  0.,  0.,  0.,  0.,  0.,  0.,\n",
       "        0.,  0.,  0.,  0.,  0.,  0.,  0.,  0.,  0.,  0.,  0.,  0.,  0.,\n",
       "        0.,  0.,  0.,  0.,  0.,  0.,  0.,  0.,  0.,  0.,  0.,  0.,  0.,\n",
       "        0.,  0.,  0.,  0.,  0.,  0.,  0.,  0.,  0.,  0.,  0.,  0.,  0.,\n",
       "        0.,  0.,  0.,  0.,  0.,  0.,  0.,  0.,  0.,  0.,  0.,  0.,  0.,\n",
       "        0.,  0.,  0.,  0.,  0.,  0.,  0.,  0.,  0.,  0.,  0.,  0.,  0.,\n",
       "        0.,  0.,  0.,  0.,  0.,  0.,  0.,  0.,  0.])"
      ]
     },
     "execution_count": 59,
     "metadata": {},
     "output_type": "execute_result"
    }
   ],
   "source": [
    "np.zeros(100)"
   ]
  },
  {
   "cell_type": "code",
   "execution_count": 61,
   "metadata": {},
   "outputs": [
    {
     "data": {
      "text/plain": [
       "array([ 10.,  10.,  10.,  10.,  10.,  10.,  10.,  10.,  10.,  10.,  10.,\n",
       "        10.,  10.,  10.,  10.,  10.,  10.,  10.,  10.,  10.,  10.,  10.,\n",
       "        10.,  10.,  10.,  10.,  10.,  10.,  10.,  10.,  10.,  10.,  10.,\n",
       "        10.,  10.,  10.,  10.,  10.,  10.,  10.,  10.,  10.,  10.,  10.,\n",
       "        10.,  10.,  10.,  10.,  10.,  10.,  10.,  10.,  10.,  10.,  10.,\n",
       "        10.,  10.,  10.,  10.,  10.,  10.,  10.,  10.,  10.,  10.,  10.,\n",
       "        10.,  10.,  10.,  10.,  10.,  10.,  10.,  10.,  10.,  10.,  10.,\n",
       "        10.,  10.,  10.,  10.,  10.,  10.,  10.,  10.,  10.,  10.,  10.,\n",
       "        10.,  10.,  10.,  10.,  10.,  10.,  10.,  10.,  10.,  10.,  10.,\n",
       "        10.])"
      ]
     },
     "execution_count": 61,
     "metadata": {},
     "output_type": "execute_result"
    }
   ],
   "source": [
    "np.ones(100) * 10"
   ]
  },
  {
   "cell_type": "code",
   "execution_count": 69,
   "metadata": {},
   "outputs": [],
   "source": [
    "arr = np.empty(100000000)"
   ]
  },
  {
   "cell_type": "code",
   "execution_count": 70,
   "metadata": {},
   "outputs": [
    {
     "data": {
      "text/plain": [
       "0.0"
      ]
     },
     "execution_count": 70,
     "metadata": {},
     "output_type": "execute_result"
    }
   ],
   "source": [
    "arr.max()"
   ]
  },
  {
   "cell_type": "code",
   "execution_count": 71,
   "metadata": {},
   "outputs": [
    {
     "data": {
      "text/plain": [
       "0.0"
      ]
     },
     "execution_count": 71,
     "metadata": {},
     "output_type": "execute_result"
    }
   ],
   "source": [
    "arr.min()"
   ]
  },
  {
   "cell_type": "code",
   "execution_count": 75,
   "metadata": {},
   "outputs": [],
   "source": [
    "arr1 = np.array([1,2,3,4,5])\n",
    "arr2 = np.array([9, 10, 11, 12, 13])"
   ]
  },
  {
   "cell_type": "code",
   "execution_count": 76,
   "metadata": {},
   "outputs": [
    {
     "data": {
      "text/plain": [
       "array([ 1,  2,  3,  4,  5,  9, 10, 11, 12, 13])"
      ]
     },
     "execution_count": 76,
     "metadata": {},
     "output_type": "execute_result"
    }
   ],
   "source": [
    "np.concatenate([arr1, arr2])"
   ]
  },
  {
   "cell_type": "code",
   "execution_count": 78,
   "metadata": {},
   "outputs": [
    {
     "data": {
      "text/plain": [
       "(2, 5)"
      ]
     },
     "execution_count": 78,
     "metadata": {},
     "output_type": "execute_result"
    }
   ],
   "source": [
    "arr3 = np.array([arr1, arr2])\n",
    "arr3.shape"
   ]
  },
  {
   "cell_type": "code",
   "execution_count": 79,
   "metadata": {},
   "outputs": [
    {
     "data": {
      "text/plain": [
       "2"
      ]
     },
     "execution_count": 79,
     "metadata": {},
     "output_type": "execute_result"
    }
   ],
   "source": [
    "arr3.ndim"
   ]
  },
  {
   "cell_type": "code",
   "execution_count": 82,
   "metadata": {},
   "outputs": [
    {
     "data": {
      "text/plain": [
       "array([[ 1,  2,  3,  4,  5],\n",
       "       [ 9, 10, 11, 12, 13]])"
      ]
     },
     "execution_count": 82,
     "metadata": {},
     "output_type": "execute_result"
    }
   ],
   "source": [
    "arr3"
   ]
  },
  {
   "cell_type": "code",
   "execution_count": 81,
   "metadata": {},
   "outputs": [
    {
     "data": {
      "text/plain": [
       "2"
      ]
     },
     "execution_count": 81,
     "metadata": {},
     "output_type": "execute_result"
    }
   ],
   "source": [
    "arr3[0, 1]"
   ]
  },
  {
   "cell_type": "code",
   "execution_count": 83,
   "metadata": {},
   "outputs": [
    {
     "data": {
      "text/plain": [
       "array([ 0.63646637,  0.59388856,  0.34577305,  0.47446608,  0.19335643])"
      ]
     },
     "execution_count": 83,
     "metadata": {},
     "output_type": "execute_result"
    }
   ],
   "source": [
    "a = np.random.random(5)\n",
    "a"
   ]
  },
  {
   "cell_type": "code",
   "execution_count": 88,
   "metadata": {},
   "outputs": [],
   "source": [
    "condition = a < 0.5"
   ]
  },
  {
   "cell_type": "code",
   "execution_count": 89,
   "metadata": {},
   "outputs": [],
   "source": [
    "condition[0] = True"
   ]
  },
  {
   "cell_type": "code",
   "execution_count": 90,
   "metadata": {},
   "outputs": [
    {
     "data": {
      "text/plain": [
       "array([ 0.63646637,  0.34577305,  0.47446608,  0.19335643])"
      ]
     },
     "execution_count": 90,
     "metadata": {},
     "output_type": "execute_result"
    }
   ],
   "source": [
    "a[condition]"
   ]
  },
  {
   "cell_type": "code",
   "execution_count": 87,
   "metadata": {},
   "outputs": [
    {
     "data": {
      "text/plain": [
       "array([ 0.34577305,  0.47446608,  0.19335643])"
      ]
     },
     "execution_count": 87,
     "metadata": {},
     "output_type": "execute_result"
    }
   ],
   "source": [
    "a[np.array([False, False, True, True, True])]"
   ]
  },
  {
   "cell_type": "code",
   "execution_count": 91,
   "metadata": {},
   "outputs": [],
   "source": [
    "xy = np.mgrid[0.0:1.0:128j, 0.0:1.0:128j]"
   ]
  },
  {
   "cell_type": "code",
   "execution_count": 92,
   "metadata": {},
   "outputs": [
    {
     "data": {
      "text/plain": [
       "(2, 128, 128)"
      ]
     },
     "execution_count": 92,
     "metadata": {},
     "output_type": "execute_result"
    }
   ],
   "source": [
    "xy.shape"
   ]
  },
  {
   "cell_type": "code",
   "execution_count": 95,
   "metadata": {},
   "outputs": [
    {
     "data": {
      "text/plain": [
       "array([[ 0.        ,  0.00787402,  0.01574803, ...,  0.98425197,\n",
       "         0.99212598,  1.        ],\n",
       "       [ 0.        ,  0.00787402,  0.01574803, ...,  0.98425197,\n",
       "         0.99212598,  1.        ],\n",
       "       [ 0.        ,  0.00787402,  0.01574803, ...,  0.98425197,\n",
       "         0.99212598,  1.        ],\n",
       "       ..., \n",
       "       [ 0.        ,  0.00787402,  0.01574803, ...,  0.98425197,\n",
       "         0.99212598,  1.        ],\n",
       "       [ 0.        ,  0.00787402,  0.01574803, ...,  0.98425197,\n",
       "         0.99212598,  1.        ],\n",
       "       [ 0.        ,  0.00787402,  0.01574803, ...,  0.98425197,\n",
       "         0.99212598,  1.        ]])"
      ]
     },
     "execution_count": 95,
     "metadata": {},
     "output_type": "execute_result"
    }
   ],
   "source": [
    "xy[1, :,:]"
   ]
  },
  {
   "cell_type": "code",
   "execution_count": 96,
   "metadata": {},
   "outputs": [],
   "source": [
    "%matplotlib inline"
   ]
  },
  {
   "cell_type": "code",
   "execution_count": 97,
   "metadata": {},
   "outputs": [],
   "source": [
    "import matplotlib.pyplot as plt\n"
   ]
  },
  {
   "cell_type": "code",
   "execution_count": 99,
   "metadata": {},
   "outputs": [
    {
     "data": {
      "text/plain": [
       "<matplotlib.image.AxesImage at 0x7f57a15f5518>"
      ]
     },
     "execution_count": 99,
     "metadata": {},
     "output_type": "execute_result"
    },
    {
     "data": {
      "image/png": "[encoded data removed]",
      "text/plain": [
       "<matplotlib.figure.Figure at 0x7f57a16bd1d0>"
      ]
     },
     "metadata": {},
     "output_type": "display_data"
    }
   ],
   "source": [
    "plt.imshow(xy[1,:,:], origin='lower')"
   ]
  },
  {
   "cell_type": "code",
   "execution_count": 101,
   "metadata": {},
   "outputs": [],
   "source": [
    "x = xy[0,:,:]\n",
    "y = xy[1,:,:]"
   ]
  },
  {
   "cell_type": "code",
   "execution_count": 102,
   "metadata": {},
   "outputs": [
    {
     "data": {
      "text/plain": [
       "((128, 128), (128, 128))"
      ]
     },
     "execution_count": 102,
     "metadata": {},
     "output_type": "execute_result"
    }
   ],
   "source": [
    "x.shape, y.shape"
   ]
  },
  {
   "cell_type": "code",
   "execution_count": 107,
   "metadata": {},
   "outputs": [
    {
     "data": {
      "text/plain": [
       "array([[ True,  True,  True, ..., False, False, False],\n",
       "       [ True,  True,  True, ..., False, False, False],\n",
       "       [ True,  True,  True, ..., False, False, False],\n",
       "       ..., \n",
       "       [False, False, False, ..., False, False, False],\n",
       "       [False, False, False, ..., False, False, False],\n",
       "       [False, False, False, ..., False, False, False]], dtype=bool)"
      ]
     },
     "execution_count": 107,
     "metadata": {},
     "output_type": "execute_result"
    }
   ],
   "source": [
    "(x < 0.2) & (y < 0.2)"
   ]
  },
  {
   "cell_type": "code",
   "execution_count": 108,
   "metadata": {},
   "outputs": [
    {
     "data": {
      "text/plain": [
       "array([ 0.        ,  0.        ,  0.        ,  0.        ,  0.        ,\n",
       "        0.        ,  0.        ,  0.        ,  0.        ,  0.        ,\n",
       "        0.        ,  0.        ,  0.        ,  0.        ,  0.        ,\n",
       "        0.        ,  0.        ,  0.        ,  0.        ,  0.        ,\n",
       "        0.        ,  0.        ,  0.        ,  0.        ,  0.        ,\n",
       "        0.        ,  0.00787402,  0.00787402,  0.00787402,  0.00787402,\n",
       "        0.00787402,  0.00787402,  0.00787402,  0.00787402,  0.00787402,\n",
       "        0.00787402,  0.00787402,  0.00787402,  0.00787402,  0.00787402,\n",
       "        0.00787402,  0.00787402,  0.00787402,  0.00787402,  0.00787402,\n",
       "        0.00787402,  0.00787402,  0.00787402,  0.00787402,  0.00787402,\n",
       "        0.00787402,  0.00787402,  0.01574803,  0.01574803,  0.01574803,\n",
       "        0.01574803,  0.01574803,  0.01574803,  0.01574803,  0.01574803,\n",
       "        0.01574803,  0.01574803,  0.01574803,  0.01574803,  0.01574803,\n",
       "        0.01574803,  0.01574803,  0.01574803,  0.01574803,  0.01574803,\n",
       "        0.01574803,  0.01574803,  0.01574803,  0.01574803,  0.01574803,\n",
       "        0.01574803,  0.01574803,  0.01574803,  0.02362205,  0.02362205,\n",
       "        0.02362205,  0.02362205,  0.02362205,  0.02362205,  0.02362205,\n",
       "        0.02362205,  0.02362205,  0.02362205,  0.02362205,  0.02362205,\n",
       "        0.02362205,  0.02362205,  0.02362205,  0.02362205,  0.02362205,\n",
       "        0.02362205,  0.02362205,  0.02362205,  0.02362205,  0.02362205,\n",
       "        0.02362205,  0.02362205,  0.02362205,  0.02362205,  0.03149606,\n",
       "        0.03149606,  0.03149606,  0.03149606,  0.03149606,  0.03149606,\n",
       "        0.03149606,  0.03149606,  0.03149606,  0.03149606,  0.03149606,\n",
       "        0.03149606,  0.03149606,  0.03149606,  0.03149606,  0.03149606,\n",
       "        0.03149606,  0.03149606,  0.03149606,  0.03149606,  0.03149606,\n",
       "        0.03149606,  0.03149606,  0.03149606,  0.03149606,  0.03149606,\n",
       "        0.03937008,  0.03937008,  0.03937008,  0.03937008,  0.03937008,\n",
       "        0.03937008,  0.03937008,  0.03937008,  0.03937008,  0.03937008,\n",
       "        0.03937008,  0.03937008,  0.03937008,  0.03937008,  0.03937008,\n",
       "        0.03937008,  0.03937008,  0.03937008,  0.03937008,  0.03937008,\n",
       "        0.03937008,  0.03937008,  0.03937008,  0.03937008,  0.03937008,\n",
       "        0.03937008,  0.04724409,  0.04724409,  0.04724409,  0.04724409,\n",
       "        0.04724409,  0.04724409,  0.04724409,  0.04724409,  0.04724409,\n",
       "        0.04724409,  0.04724409,  0.04724409,  0.04724409,  0.04724409,\n",
       "        0.04724409,  0.04724409,  0.04724409,  0.04724409,  0.04724409,\n",
       "        0.04724409,  0.04724409,  0.04724409,  0.04724409,  0.04724409,\n",
       "        0.04724409,  0.04724409,  0.05511811,  0.05511811,  0.05511811,\n",
       "        0.05511811,  0.05511811,  0.05511811,  0.05511811,  0.05511811,\n",
       "        0.05511811,  0.05511811,  0.05511811,  0.05511811,  0.05511811,\n",
       "        0.05511811,  0.05511811,  0.05511811,  0.05511811,  0.05511811,\n",
       "        0.05511811,  0.05511811,  0.05511811,  0.05511811,  0.05511811,\n",
       "        0.05511811,  0.05511811,  0.05511811,  0.06299213,  0.06299213,\n",
       "        0.06299213,  0.06299213,  0.06299213,  0.06299213,  0.06299213,\n",
       "        0.06299213,  0.06299213,  0.06299213,  0.06299213,  0.06299213,\n",
       "        0.06299213,  0.06299213,  0.06299213,  0.06299213,  0.06299213,\n",
       "        0.06299213,  0.06299213,  0.06299213,  0.06299213,  0.06299213,\n",
       "        0.06299213,  0.06299213,  0.06299213,  0.06299213,  0.07086614,\n",
       "        0.07086614,  0.07086614,  0.07086614,  0.07086614,  0.07086614,\n",
       "        0.07086614,  0.07086614,  0.07086614,  0.07086614,  0.07086614,\n",
       "        0.07086614,  0.07086614,  0.07086614,  0.07086614,  0.07086614,\n",
       "        0.07086614,  0.07086614,  0.07086614,  0.07086614,  0.07086614,\n",
       "        0.07086614,  0.07086614,  0.07086614,  0.07086614,  0.07086614,\n",
       "        0.07874016,  0.07874016,  0.07874016,  0.07874016,  0.07874016,\n",
       "        0.07874016,  0.07874016,  0.07874016,  0.07874016,  0.07874016,\n",
       "        0.07874016,  0.07874016,  0.07874016,  0.07874016,  0.07874016,\n",
       "        0.07874016,  0.07874016,  0.07874016,  0.07874016,  0.07874016,\n",
       "        0.07874016,  0.07874016,  0.07874016,  0.07874016,  0.07874016,\n",
       "        0.07874016,  0.08661417,  0.08661417,  0.08661417,  0.08661417,\n",
       "        0.08661417,  0.08661417,  0.08661417,  0.08661417,  0.08661417,\n",
       "        0.08661417,  0.08661417,  0.08661417,  0.08661417,  0.08661417,\n",
       "        0.08661417,  0.08661417,  0.08661417,  0.08661417,  0.08661417,\n",
       "        0.08661417,  0.08661417,  0.08661417,  0.08661417,  0.08661417,\n",
       "        0.08661417,  0.08661417,  0.09448819,  0.09448819,  0.09448819,\n",
       "        0.09448819,  0.09448819,  0.09448819,  0.09448819,  0.09448819,\n",
       "        0.09448819,  0.09448819,  0.09448819,  0.09448819,  0.09448819,\n",
       "        0.09448819,  0.09448819,  0.09448819,  0.09448819,  0.09448819,\n",
       "        0.09448819,  0.09448819,  0.09448819,  0.09448819,  0.09448819,\n",
       "        0.09448819,  0.09448819,  0.09448819,  0.1023622 ,  0.1023622 ,\n",
       "        0.1023622 ,  0.1023622 ,  0.1023622 ,  0.1023622 ,  0.1023622 ,\n",
       "        0.1023622 ,  0.1023622 ,  0.1023622 ,  0.1023622 ,  0.1023622 ,\n",
       "        0.1023622 ,  0.1023622 ,  0.1023622 ,  0.1023622 ,  0.1023622 ,\n",
       "        0.1023622 ,  0.1023622 ,  0.1023622 ,  0.1023622 ,  0.1023622 ,\n",
       "        0.1023622 ,  0.1023622 ,  0.1023622 ,  0.1023622 ,  0.11023622,\n",
       "        0.11023622,  0.11023622,  0.11023622,  0.11023622,  0.11023622,\n",
       "        0.11023622,  0.11023622,  0.11023622,  0.11023622,  0.11023622,\n",
       "        0.11023622,  0.11023622,  0.11023622,  0.11023622,  0.11023622,\n",
       "        0.11023622,  0.11023622,  0.11023622,  0.11023622,  0.11023622,\n",
       "        0.11023622,  0.11023622,  0.11023622,  0.11023622,  0.11023622,\n",
       "        0.11811024,  0.11811024,  0.11811024,  0.11811024,  0.11811024,\n",
       "        0.11811024,  0.11811024,  0.11811024,  0.11811024,  0.11811024,\n",
       "        0.11811024,  0.11811024,  0.11811024,  0.11811024,  0.11811024,\n",
       "        0.11811024,  0.11811024,  0.11811024,  0.11811024,  0.11811024,\n",
       "        0.11811024,  0.11811024,  0.11811024,  0.11811024,  0.11811024,\n",
       "        0.11811024,  0.12598425,  0.12598425,  0.12598425,  0.12598425,\n",
       "        0.12598425,  0.12598425,  0.12598425,  0.12598425,  0.12598425,\n",
       "        0.12598425,  0.12598425,  0.12598425,  0.12598425,  0.12598425,\n",
       "        0.12598425,  0.12598425,  0.12598425,  0.12598425,  0.12598425,\n",
       "        0.12598425,  0.12598425,  0.12598425,  0.12598425,  0.12598425,\n",
       "        0.12598425,  0.12598425,  0.13385827,  0.13385827,  0.13385827,\n",
       "        0.13385827,  0.13385827,  0.13385827,  0.13385827,  0.13385827,\n",
       "        0.13385827,  0.13385827,  0.13385827,  0.13385827,  0.13385827,\n",
       "        0.13385827,  0.13385827,  0.13385827,  0.13385827,  0.13385827,\n",
       "        0.13385827,  0.13385827,  0.13385827,  0.13385827,  0.13385827,\n",
       "        0.13385827,  0.13385827,  0.13385827,  0.14173228,  0.14173228,\n",
       "        0.14173228,  0.14173228,  0.14173228,  0.14173228,  0.14173228,\n",
       "        0.14173228,  0.14173228,  0.14173228,  0.14173228,  0.14173228,\n",
       "        0.14173228,  0.14173228,  0.14173228,  0.14173228,  0.14173228,\n",
       "        0.14173228,  0.14173228,  0.14173228,  0.14173228,  0.14173228,\n",
       "        0.14173228,  0.14173228,  0.14173228,  0.14173228,  0.1496063 ,\n",
       "        0.1496063 ,  0.1496063 ,  0.1496063 ,  0.1496063 ,  0.1496063 ,\n",
       "        0.1496063 ,  0.1496063 ,  0.1496063 ,  0.1496063 ,  0.1496063 ,\n",
       "        0.1496063 ,  0.1496063 ,  0.1496063 ,  0.1496063 ,  0.1496063 ,\n",
       "        0.1496063 ,  0.1496063 ,  0.1496063 ,  0.1496063 ,  0.1496063 ,\n",
       "        0.1496063 ,  0.1496063 ,  0.1496063 ,  0.1496063 ,  0.1496063 ,\n",
       "        0.15748031,  0.15748031,  0.15748031,  0.15748031,  0.15748031,\n",
       "        0.15748031,  0.15748031,  0.15748031,  0.15748031,  0.15748031,\n",
       "        0.15748031,  0.15748031,  0.15748031,  0.15748031,  0.15748031,\n",
       "        0.15748031,  0.15748031,  0.15748031,  0.15748031,  0.15748031,\n",
       "        0.15748031,  0.15748031,  0.15748031,  0.15748031,  0.15748031,\n",
       "        0.15748031,  0.16535433,  0.16535433,  0.16535433,  0.16535433,\n",
       "        0.16535433,  0.16535433,  0.16535433,  0.16535433,  0.16535433,\n",
       "        0.16535433,  0.16535433,  0.16535433,  0.16535433,  0.16535433,\n",
       "        0.16535433,  0.16535433,  0.16535433,  0.16535433,  0.16535433,\n",
       "        0.16535433,  0.16535433,  0.16535433,  0.16535433,  0.16535433,\n",
       "        0.16535433,  0.16535433,  0.17322835,  0.17322835,  0.17322835,\n",
       "        0.17322835,  0.17322835,  0.17322835,  0.17322835,  0.17322835,\n",
       "        0.17322835,  0.17322835,  0.17322835,  0.17322835,  0.17322835,\n",
       "        0.17322835,  0.17322835,  0.17322835,  0.17322835,  0.17322835,\n",
       "        0.17322835,  0.17322835,  0.17322835,  0.17322835,  0.17322835,\n",
       "        0.17322835,  0.17322835,  0.17322835,  0.18110236,  0.18110236,\n",
       "        0.18110236,  0.18110236,  0.18110236,  0.18110236,  0.18110236,\n",
       "        0.18110236,  0.18110236,  0.18110236,  0.18110236,  0.18110236,\n",
       "        0.18110236,  0.18110236,  0.18110236,  0.18110236,  0.18110236,\n",
       "        0.18110236,  0.18110236,  0.18110236,  0.18110236,  0.18110236,\n",
       "        0.18110236,  0.18110236,  0.18110236,  0.18110236,  0.18897638,\n",
       "        0.18897638,  0.18897638,  0.18897638,  0.18897638,  0.18897638,\n",
       "        0.18897638,  0.18897638,  0.18897638,  0.18897638,  0.18897638,\n",
       "        0.18897638,  0.18897638,  0.18897638,  0.18897638,  0.18897638,\n",
       "        0.18897638,  0.18897638,  0.18897638,  0.18897638,  0.18897638,\n",
       "        0.18897638,  0.18897638,  0.18897638,  0.18897638,  0.18897638,\n",
       "        0.19685039,  0.19685039,  0.19685039,  0.19685039,  0.19685039,\n",
       "        0.19685039,  0.19685039,  0.19685039,  0.19685039,  0.19685039,\n",
       "        0.19685039,  0.19685039,  0.19685039,  0.19685039,  0.19685039,\n",
       "        0.19685039,  0.19685039,  0.19685039,  0.19685039,  0.19685039,\n",
       "        0.19685039,  0.19685039,  0.19685039,  0.19685039,  0.19685039,\n",
       "        0.19685039])"
      ]
     },
     "execution_count": 108,
     "metadata": {},
     "output_type": "execute_result"
    }
   ],
   "source": [
    "xy[0, (x < 0.2) & (y < 0.2)]"
   ]
  },
  {
   "cell_type": "code",
   "execution_count": 113,
   "metadata": {},
   "outputs": [
    {
     "data": {
      "text/plain": [
       "array([[ 0.        ,  0.        ,  0.        , ...,  0.        ,\n",
       "         0.        ,  0.        ],\n",
       "       [ 0.00787402,  0.00787402,  0.00787402, ...,  0.00787402,\n",
       "         0.00787402,  0.00787402],\n",
       "       [ 0.01574803,  0.01574803,  0.01574803, ...,  0.01574803,\n",
       "         0.01574803,  0.01574803],\n",
       "       ..., \n",
       "       [ 0.2       ,  0.2       ,  0.2       , ...,  0.2       ,\n",
       "         0.2       ,  0.2       ],\n",
       "       [ 0.2       ,  0.2       ,  0.2       , ...,  0.2       ,\n",
       "         0.2       ,  0.2       ],\n",
       "       [ 0.2       ,  0.2       ,  0.2       , ...,  0.2       ,\n",
       "         0.2       ,  0.2       ]])"
      ]
     },
     "execution_count": 113,
     "metadata": {},
     "output_type": "execute_result"
    }
   ],
   "source": [
    "np.clip(x, 0.0, 0.2)"
   ]
  },
  {
   "cell_type": "code",
   "execution_count": 114,
   "metadata": {},
   "outputs": [
    {
     "data": {
      "text/plain": [
       "array([[ 0.        ,  0.00787402,  0.01574803, ...,  0.98425197,\n",
       "         0.99212598,  1.        ],\n",
       "       [ 0.00787402,  0.00787402,  0.01574803, ...,  0.98425197,\n",
       "         0.99212598,  1.        ],\n",
       "       [ 0.01574803,  0.01574803,  0.01574803, ...,  0.98425197,\n",
       "         0.99212598,  1.        ],\n",
       "       ..., \n",
       "       [ 0.98425197,  0.98425197,  0.98425197, ...,  0.98425197,\n",
       "         0.99212598,  1.        ],\n",
       "       [ 0.99212598,  0.99212598,  0.99212598, ...,  0.99212598,\n",
       "         0.99212598,  1.        ],\n",
       "       [ 1.        ,  1.        ,  1.        , ...,  1.        ,\n",
       "         1.        ,  1.        ]])"
      ]
     },
     "execution_count": 114,
     "metadata": {},
     "output_type": "execute_result"
    }
   ],
   "source": [
    "np.maximum(x, y)"
   ]
  },
  {
   "cell_type": "code",
   "execution_count": 115,
   "metadata": {},
   "outputs": [
    {
     "data": {
      "text/plain": [
       "1.0"
      ]
     },
     "execution_count": 115,
     "metadata": {},
     "output_type": "execute_result"
    }
   ],
   "source": [
    "np.max(x)"
   ]
  },
  {
   "cell_type": "code",
   "execution_count": 119,
   "metadata": {},
   "outputs": [
    {
     "data": {
      "text/plain": [
       "(128, 128)"
      ]
     },
     "execution_count": 119,
     "metadata": {},
     "output_type": "execute_result"
    }
   ],
   "source": [
    "x.shape"
   ]
  },
  {
   "cell_type": "code",
   "execution_count": 124,
   "metadata": {},
   "outputs": [
    {
     "data": {
      "text/plain": [
       "(10, 128)"
      ]
     },
     "execution_count": 124,
     "metadata": {},
     "output_type": "execute_result"
    }
   ],
   "source": [
    "x[20:40:2, :].shape"
   ]
  },
  {
   "cell_type": "code",
   "execution_count": 125,
   "metadata": {},
   "outputs": [
    {
     "data": {
      "text/plain": [
       "(128, 10)"
      ]
     },
     "execution_count": 125,
     "metadata": {},
     "output_type": "execute_result"
    }
   ],
   "source": [
    "x[:, 20:40:2].shape"
   ]
  },
  {
   "cell_type": "code",
   "execution_count": 126,
   "metadata": {},
   "outputs": [],
   "source": [
    "v = np.random.random((128, 128))\n"
   ]
  },
  {
   "cell_type": "code",
   "execution_count": 128,
   "metadata": {},
   "outputs": [],
   "source": [
    "radius = np.sqrt(x**2 + y**2)"
   ]
  },
  {
   "cell_type": "code",
   "execution_count": 129,
   "metadata": {},
   "outputs": [
    {
     "data": {
      "text/plain": [
       "1.4142135623730951"
      ]
     },
     "execution_count": 129,
     "metadata": {},
     "output_type": "execute_result"
    }
   ],
   "source": [
    "radius.max()"
   ]
  },
  {
   "cell_type": "code",
   "execution_count": 130,
   "metadata": {},
   "outputs": [
    {
     "data": {
      "text/plain": [
       "0.0"
      ]
     },
     "execution_count": 130,
     "metadata": {},
     "output_type": "execute_result"
    }
   ],
   "source": [
    "radius.min()"
   ]
  },
  {
   "cell_type": "code",
   "execution_count": 134,
   "metadata": {},
   "outputs": [
    {
     "data": {
      "text/plain": [
       "array([ 0.41414025,  0.08606988,  0.25655514, ...,  0.95715842,\n",
       "        0.07659013,  0.89388657])"
      ]
     },
     "execution_count": 134,
     "metadata": {},
     "output_type": "execute_result"
    }
   ],
   "source": [
    "v[(radius > 0.3) & (radius < 0.5)]"
   ]
  },
  {
   "cell_type": "code",
   "execution_count": 135,
   "metadata": {},
   "outputs": [
    {
     "name": "stdout",
     "output_type": "stream",
     "text": [
      "0 0.960036730062\n",
      "1 0.688734478879\n",
      "2 0.660972611457\n",
      "3 0.629329700492\n",
      "4 0.699363991591\n",
      "5 0.719286990424\n",
      "6 0.145168564456\n",
      "7 0.0469948954055\n",
      "8 0.056827855904\n",
      "9 0.353093830183\n"
     ]
    }
   ],
   "source": [
    "i = 0\n",
    "for value in np.random.random(10):\n",
    "    print(i, value)\n",
    "    i += 1"
   ]
  },
  {
   "cell_type": "code",
   "execution_count": 137,
   "metadata": {},
   "outputs": [
    {
     "name": "stdout",
     "output_type": "stream",
     "text": [
      "0 0.867168453674\n",
      "1 0.00460360416038\n",
      "2 0.871516705199\n",
      "3 0.362346223979\n",
      "4 0.989497510956\n",
      "5 0.651391142162\n",
      "6 0.257918658553\n",
      "7 0.916702970782\n",
      "8 0.0507342722873\n",
      "9 0.800816146465\n"
     ]
    }
   ],
   "source": [
    "for i, value in enumerate(np.random.random(10)):\n",
    "    print(i, value)"
   ]
  },
  {
   "cell_type": "code",
   "execution_count": 138,
   "metadata": {},
   "outputs": [],
   "source": [
    "import h5py"
   ]
  },
  {
   "cell_type": "code",
   "execution_count": 139,
   "metadata": {},
   "outputs": [],
   "source": [
    "f = h5py.File(\"gaia_validp.h5\")"
   ]
  },
  {
   "cell_type": "code",
   "execution_count": 140,
   "metadata": {},
   "outputs": [
    {
     "data": {
      "text/plain": [
       "['dec', 'parallax', 'phot_g_mean_mag', 'pmdec', 'pmra', 'ra']"
      ]
     },
     "execution_count": 140,
     "metadata": {},
     "output_type": "execute_result"
    }
   ],
   "source": [
    "list(f.keys())"
   ]
  },
  {
   "cell_type": "code",
   "execution_count": 146,
   "metadata": {},
   "outputs": [],
   "source": [
    "parallax = f[\"/parallax\"].value"
   ]
  },
  {
   "cell_type": "code",
   "execution_count": 147,
   "metadata": {},
   "outputs": [],
   "source": [
    "dec = f[\"/dec\"].value"
   ]
  },
  {
   "cell_type": "code",
   "execution_count": 148,
   "metadata": {},
   "outputs": [],
   "source": [
    "ra = f[\"/ra\"].value\n",
    "gmm = f[\"/phot_g_mean_mag\"].value"
   ]
  },
  {
   "cell_type": "code",
   "execution_count": 154,
   "metadata": {},
   "outputs": [
    {
     "data": {
      "text/plain": [
       "(295.80363766060833,\n",
       " -24.819952295536908,\n",
       " 2.4776271138465056,\n",
       " 2.9101827028199097)"
      ]
     },
     "execution_count": 154,
     "metadata": {},
     "output_type": "execute_result"
    }
   ],
   "source": [
    "parallax.max(), parallax.min(), parallax.mean(), parallax.std()"
   ]
  },
  {
   "cell_type": "code",
   "execution_count": 156,
   "metadata": {},
   "outputs": [
    {
     "data": {
      "text/plain": [
       "array([2056985,      65])"
      ]
     },
     "execution_count": 156,
     "metadata": {},
     "output_type": "execute_result"
    }
   ],
   "source": [
    "np.bincount(parallax > 100)"
   ]
  },
  {
   "cell_type": "code",
   "execution_count": 157,
   "metadata": {},
   "outputs": [
    {
     "data": {
      "text/plain": [
       "array([  7.84839454,   7.09626155,   9.50313786,   8.52769087,\n",
       "         8.77529879,   8.69620152,   6.94784552,   8.41284426,\n",
       "         9.36799105,   9.30662818,   7.38912244,   8.9950522 ,\n",
       "        10.51897768,   7.87098716,   8.35738094,   7.70895458,\n",
       "         7.64435938,   9.20151358,   9.26522323,   4.71050779,\n",
       "         7.15823764,   8.03483573,   8.7019769 ,   9.0569595 ,\n",
       "         8.02720424,   7.67204844,   7.19472916,   8.86397901,\n",
       "        10.37631918,   8.97980191,   6.98585889,   8.84635507,\n",
       "         5.68404814,   8.74869836,   9.91257068,   9.40491996,\n",
       "        10.31507993,  10.08341144,   9.41062844,   8.71046202,\n",
       "         7.95224851,   8.61177193,  10.24429908,   6.83387987,\n",
       "         9.64927977,   9.65833585,   5.58094552,  10.86723625,\n",
       "         9.87184154,  10.02925432,   9.21036291,  11.41018521,\n",
       "         9.00160645,   9.47480508,  10.21354546,   9.72740338,\n",
       "         9.13054995,   8.12023118,   9.24185246,   9.69291127,\n",
       "         9.1214711 ,   7.61170929,   5.88131312,   7.13408935,   7.71244892])"
      ]
     },
     "execution_count": 157,
     "metadata": {},
     "output_type": "execute_result"
    }
   ],
   "source": [
    "gmm[parallax > 100]"
   ]
  },
  {
   "cell_type": "code",
   "execution_count": 164,
   "metadata": {},
   "outputs": [],
   "source": [
    "def show_stats(p_thresh):\n",
    "    gmm_selected = gmm[parallax > p_thresh]\n",
    "    plt.scatter(ra[parallax > p_thresh], dec[parallax > p_thresh])\n",
    "    print(gmm_selected.min(), gmm_selected.max(),\n",
    "         gmm_selected.mean(), gmm_selected.std(),\n",
    "         gmm_selected.size)"
   ]
  },
  {
   "cell_type": "code",
   "execution_count": 168,
   "metadata": {},
   "outputs": [
    {
     "name": "stdout",
     "output_type": "stream",
     "text": [
      "4.71050779076 12.4110439379 8.65805549505 1.47858547078 529\n"
     ]
    },
    {
     "data": {
      "image/png": "[encoded data removed]",
      "text/plain": [
       "<matplotlib.figure.Figure at 0x7f57a1596fd0>"
      ]
     },
     "metadata": {},
     "output_type": "display_data"
    }
   ],
   "source": [
    "show_stats(50)"
   ]
  },
  {
   "cell_type": "code",
   "execution_count": 171,
   "metadata": {},
   "outputs": [
    {
     "data": {
      "text/plain": [
       "array([  -1, -128], dtype=int8)"
      ]
     },
     "execution_count": 171,
     "metadata": {},
     "output_type": "execute_result"
    }
   ],
   "source": [
    "np.array([255, 128], dtype=\"u1\").view(\"i1\")"
   ]
  },
  {
   "cell_type": "code",
   "execution_count": 170,
   "metadata": {},
   "outputs": [
    {
     "data": {
      "text/plain": [
       "'0b10'"
      ]
     },
     "execution_count": 170,
     "metadata": {},
     "output_type": "execute_result"
    }
   ],
   "source": [
    "bin(2)"
   ]
  },
  {
   "cell_type": "code",
   "execution_count": null,
   "metadata": {},
   "outputs": [],
   "source": []
  }
 ],
 "metadata": {
  "kernelspec": {
   "display_name": "Python 3",
   "language": "python",
   "name": "python3"
  },
  "language_info": {
   "codemirror_mode": {
    "name": "ipython",
    "version": 3
   },
   "file_extension": ".py",
   "mimetype": "text/x-python",
   "name": "python",
   "nbconvert_exporter": "python",
   "pygments_lexer": "ipython3",
   "version": "3.6.3"
  }
 },
 "nbformat": 4,
 "nbformat_minor": 2
}
