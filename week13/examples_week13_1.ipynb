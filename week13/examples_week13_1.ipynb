{
 "cells": [
  {
   "cell_type": "code",
   "execution_count": 1,
   "metadata": {},
   "outputs": [],
   "source": [
    "%matplotlib inline \n",
    "import numpy as np\n",
    "import matplotlib.pyplot as plt\n",
    "import ipywidgets\n",
    "import scipy.integrate as sint"
   ]
  },
  {
   "cell_type": "code",
   "execution_count": 2,
   "metadata": {},
   "outputs": [],
   "source": [
    "def k1(T):\n",
    "    T_eV = T / 11605.\n",
    "    log_T_eV = np.log(T_eV)\n",
    "    rv = np.exp(-32.71396786375\n",
    "          + 13.53655609057*log_T_eV\n",
    "          - 5.739328757388*log_T_eV**2 \n",
    "          + 1.563154982022*log_T_eV**3\n",
    "          - 0.2877056004391*log_T_eV**4\n",
    "          + 0.03482559773736999*log_T_eV**5\n",
    "          - 0.00263197617559*log_T_eV**6\n",
    "          + 0.0001119543953861*log_T_eV**7\n",
    "          - 2.039149852002e-6*log_T_eV**8)\n",
    "    return rv\n",
    "\n",
    "def k2(T):\n",
    "    rv = 4.881357e-6*T**(-1.5)* (1.+1.14813e2 * T**(-0.407))**(-2.242)\n",
    "    return rv"
   ]
  },
  {
   "cell_type": "code",
   "execution_count": 3,
   "metadata": {},
   "outputs": [],
   "source": [
    "def rhs(t, state):\n",
    "    dnHdt = state[1]*state[2]*k2(state[3]) - state[0]*state[2]*k1(state[3])\n",
    "    dnHpdt = state[0]*state[2]*k1(state[3]) - state[1]*state[2]*k2(state[3])\n",
    "    dnemdt = state[0]*state[2]*k1(state[3]) - state[1]*state[2]*k2(state[3])\n",
    "    dTdt = 0\n",
    "    return np.array([\n",
    "        dnHdt, dnHpdt, dnemdt, dTdt\n",
    "    ])"
   ]
  },
  {
   "cell_type": "code",
   "execution_count": 4,
   "metadata": {},
   "outputs": [
    {
     "data": {
      "application/vnd.jupyter.widget-view+json": {
       "model_id": "6771331c4eae4d1d99e4d13fdba84a44",
       "version_major": 2,
       "version_minor": 0
      },
      "text/html": [
       "<p>Failed to display Jupyter Widget of type <code>interactive</code>.</p>\n",
       "<p>\n",
       "  If you're reading this message in the Jupyter Notebook or JupyterLab Notebook, it may mean\n",
       "  that the widgets JavaScript is still loading. If this message persists, it\n",
       "  likely means that the widgets JavaScript library is either not installed or\n",
       "  not enabled. See the <a href=\"https://ipywidgets.readthedocs.io/en/stable/user_install.html\">Jupyter\n",
       "  Widgets Documentation</a> for setup instructions.\n",
       "</p>\n",
       "<p>\n",
       "  If you're reading this message in another frontend (for example, a static\n",
       "  rendering on GitHub or <a href=\"https://nbviewer.jupyter.org/\">NBViewer</a>),\n",
       "  it may mean that your frontend doesn't currently support widgets.\n",
       "</p>\n"
      ],
      "text/plain": [
       "interactive(children=(FloatSlider(value=2.0, description='n_total', max=9.0, min=-3.0), FloatSlider(value=-4.0, description='e_frac', max=0.0, min=-8.0), FloatSlider(value=4.176091259055681, description='T', max=6.0), FloatSlider(value=7.0, description='final_t', max=9.0), IntSlider(value=100, description='safety_factor', max=10000, min=1), Output()), _dom_classes=('widget-interact',))"
      ]
     },
     "metadata": {},
     "output_type": "display_data"
    }
   ],
   "source": [
    "@ipywidgets.interact(n_total = (-3.0, 9.0), e_frac = (-8.0, 0.0),\n",
    "                     T = (0., 6.), final_t = (0.0, 9.0),\n",
    "                    safety_factor = (1, 10000))\n",
    "def evolve(n_total = 2, e_frac = -4, T = np.log10(15000),\n",
    "           final_t = 7,\n",
    "           safety_factor = 100):\n",
    "    final_t = 10**final_t * 365*24*3600\n",
    "    n_H_initial = 10**n_total * (1.0 - 10**e_frac)\n",
    "    n_Hp_initial = 10**n_total * 10**e_frac\n",
    "    n_em_initial = 10**n_total * 10**e_frac\n",
    "    state_vector = np.array([n_H_initial, n_Hp_initial,  n_em_initial, 10**T])\n",
    "\n",
    "    integrator = sint.ode(rhs)\n",
    "    integrator.set_initial_value(state_vector, t=0)\n",
    "    state_vector_values = []\n",
    "    ts = []\n",
    "    dt = final_t / safety_factor\n",
    "    ts.append(integrator.t)\n",
    "    state_vector_values.append(integrator.y)\n",
    "    while integrator.t < final_t:\n",
    "        integrator.integrate(integrator.t + dt)\n",
    "        ts.append(integrator.t)\n",
    "        state_vector_values.append(integrator.y)\n",
    "    state_vector_values = np.array(state_vector_values)\n",
    "    ts = np.array(ts)\n",
    "    plt.loglog(ts, state_vector_values[:,0], label='HI')\n",
    "    plt.loglog(ts, state_vector_values[:,1], label='HII')\n",
    "    plt.xlabel(\"Time [s]\")\n",
    "    plt.ylabel(\"n\")\n",
    "    plt.legend()"
   ]
  },
  {
   "cell_type": "code",
   "execution_count": null,
   "metadata": {},
   "outputs": [],
   "source": []
  },
  {
   "cell_type": "code",
   "execution_count": null,
   "metadata": {},
   "outputs": [],
   "source": []
  }
 ],
 "metadata": {
  "kernelspec": {
   "display_name": "Python 3",
   "language": "python",
   "name": "python3"
  },
  "language_info": {
   "codemirror_mode": {
    "name": "ipython",
    "version": 3
   },
   "file_extension": ".py",
   "mimetype": "text/x-python",
   "name": "python",
   "nbconvert_exporter": "python",
   "pygments_lexer": "ipython3",
   "version": "3.6.4"
  }
 },
 "nbformat": 4,
 "nbformat_minor": 2
}
