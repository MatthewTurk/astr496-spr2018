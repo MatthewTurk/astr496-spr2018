{
 "cells": [
  {
   "cell_type": "code",
   "execution_count": 9,
   "metadata": {},
   "outputs": [],
   "source": [
    "%matplotlib inline\n",
    "import matplotlib.pyplot as plt\n",
    "import numpy as np"
   ]
  },
  {
   "cell_type": "code",
   "execution_count": 10,
   "metadata": {},
   "outputs": [],
   "source": [
    "N1 = 1000\n",
    "N2 = 500"
   ]
  },
  {
   "cell_type": "code",
   "execution_count": 11,
   "metadata": {},
   "outputs": [],
   "source": [
    "x1 = np.random.normal(size=N1)\n",
    "y1 = np.random.normal(size=N1)\n",
    "\n",
    "x2 = np.random.normal(size=N2, loc=7.5)\n",
    "y2 = np.random.normal(size=N2, loc=7.5)"
   ]
  },
  {
   "cell_type": "code",
   "execution_count": 12,
   "metadata": {},
   "outputs": [],
   "source": [
    "x = np.concatenate([x1, x2])\n",
    "y = np.concatenate([y1, y2])"
   ]
  },
  {
   "cell_type": "code",
   "execution_count": 13,
   "metadata": {},
   "outputs": [
    {
     "data": {
      "text/plain": [
       "<matplotlib.collections.PathCollection at 0x7f939a7e78d0>"
      ]
     },
     "execution_count": 13,
     "metadata": {},
     "output_type": "execute_result"
    },
    {
     "data": {
      "image/png": "[encoded data removed]",
      "text/plain": [
       "<Figure size 432x288 with 1 Axes>"
      ]
     },
     "metadata": {},
     "output_type": "display_data"
    }
   ],
   "source": [
    "plt.scatter(x, y)"
   ]
  },
  {
   "cell_type": "code",
   "execution_count": 22,
   "metadata": {},
   "outputs": [],
   "source": [
    "L = 1.0\n",
    "L2 = L*L"
   ]
  },
  {
   "cell_type": "code",
   "execution_count": 24,
   "metadata": {},
   "outputs": [],
   "source": [
    "halos = {}\n",
    "for i in range(N1+N2):\n",
    "    if i in halos:\n",
    "        particle_i_set = halos[i]\n",
    "    else:\n",
    "        particle_i_set = set([i])\n",
    "    for j in range(N1+N2):\n",
    "        if i == j: continue\n",
    "        dist2 = (x[i] - x[j])**2.0 + (y[i] - y[j])**2\n",
    "        if dist2 < L2:\n",
    "            if j in halos:\n",
    "                particle_i_set.update(halos[j])\n",
    "            else:\n",
    "                particle_i_set.add(j)\n",
    "            halos[j] = particle_i_set\n",
    "            for j2 in list(particle_i_set):\n",
    "                halos[j2] = particle_i_set"
   ]
  },
  {
   "cell_type": "code",
   "execution_count": 27,
   "metadata": {},
   "outputs": [
    {
     "name": "stdout",
     "output_type": "stream",
     "text": [
      "1000\n",
      "500\n"
     ]
    }
   ],
   "source": [
    "examined = set([])\n",
    "for v in halos.values():\n",
    "    if id(v) not in examined:\n",
    "        print(len(v))\n",
    "    examined.add(id(v))"
   ]
  },
  {
   "cell_type": "code",
   "execution_count": null,
   "metadata": {},
   "outputs": [],
   "source": []
  }
 ],
 "metadata": {
  "kernelspec": {
   "display_name": "Python 3",
   "language": "python",
   "name": "python3"
  },
  "language_info": {
   "codemirror_mode": {
    "name": "ipython",
    "version": 3
   },
   "file_extension": ".py",
   "mimetype": "text/x-python",
   "name": "python",
   "nbconvert_exporter": "python",
   "pygments_lexer": "ipython3",
   "version": "3.6.4"
  }
 },
 "nbformat": 4,
 "nbformat_minor": 2
}
