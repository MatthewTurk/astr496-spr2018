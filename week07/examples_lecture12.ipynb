{
 "cells": [
  {
   "cell_type": "code",
   "execution_count": 1,
   "metadata": {},
   "outputs": [],
   "source": [
    "%matplotlib inline\n",
    "import numpy as np\n",
    "import matplotlib.pyplot as plt"
   ]
  },
  {
   "cell_type": "code",
   "execution_count": 2,
   "metadata": {},
   "outputs": [],
   "source": [
    "class Particle:\n",
    "    def __init__(self, x, y, vx, vy, mass):\n",
    "        self.x = x\n",
    "        self.y = y\n",
    "        self.vx = vx\n",
    "        self.vy = vy\n",
    "        self.mass = mass\n",
    "        \n",
    "    def update(self, Fx, Fy, dt):\n",
    "        self.vx = self.vx + Fx / self.mass * dt\n",
    "        self.vy = self.vy + Fy / self.mass * dt\n",
    "        self.x = self.x + self.vx * dt\n",
    "        self.y = self.y + self.vy * dt\n",
    "        \n",
    "    def pairwise_force(self, particle):\n",
    "        r2 = (self.x - particle.x)**2.0 + \\\n",
    "             (self.y - particle.y)**2.0\n",
    "        F_mag = -(G * particle.mass * self.mass)/r2\n",
    "        F_x = (self.x - particle.x)/r2**0.5 * F_mag\n",
    "        F_y = (self.y - particle.y)/r2**0.5 * F_mag\n",
    "        return (F_x, F_y)"
   ]
  },
  {
   "cell_type": "code",
   "execution_count": 3,
   "metadata": {},
   "outputs": [],
   "source": [
    "class Potential:\n",
    "    acceleration = -9.8\n",
    "    def compute(self, x, y, t, mass):\n",
    "        return (0.0, mass * self.acceleration)"
   ]
  },
  {
   "cell_type": "code",
   "execution_count": 4,
   "metadata": {},
   "outputs": [],
   "source": [
    "class System:\n",
    "    def __init__(self, potential, particles):\n",
    "        self.potential = potential\n",
    "        self.particles = particles\n",
    "        self.t = 0.0\n",
    "        \n",
    "    def update(self, dt):\n",
    "        for particle in self.particles:\n",
    "            Fx, Fy = self.potential.compute(\n",
    "                particle.x, particle.y,\n",
    "                self.t, particle.mass)\n",
    "            particle.update(Fx, Fy, dt)\n",
    "        self.t += dt"
   ]
  },
  {
   "cell_type": "code",
   "execution_count": 5,
   "metadata": {},
   "outputs": [],
   "source": [
    "xs = [ [], [] ]\n",
    "ys = [ [], [] ]\n",
    "\n",
    "potential = Potential()\n",
    "particles = [Particle(0, 0, +0.1, 0, 1.0),\n",
    "             Particle(1, 1, -1, 0, 2.0)]\n",
    "system = System(potential, particles)\n",
    "\n",
    "t_final = 10.0\n",
    "dt = 0.1\n",
    "\n",
    "while t_final > system.t:\n",
    "    for i, particle in enumerate(system.particles):\n",
    "        xs[i].append(particle.x)\n",
    "        ys[i].append(particle.y)\n",
    "    system.update(dt)"
   ]
  },
  {
   "cell_type": "code",
   "execution_count": 6,
   "metadata": {},
   "outputs": [
    {
     "data": {
      "text/plain": [
       "10.09999999999998"
      ]
     },
     "execution_count": 6,
     "metadata": {},
     "output_type": "execute_result"
    }
   ],
   "source": [
    "system.t"
   ]
  },
  {
   "cell_type": "code",
   "execution_count": 7,
   "metadata": {},
   "outputs": [
    {
     "data": {
      "text/plain": [
       "[<matplotlib.lines.Line2D at 0x7bb835767748>]"
      ]
     },
     "execution_count": 7,
     "metadata": {},
     "output_type": "execute_result"
    },
    {
     "data": {
      "image/png": "[encoded data removed]",
      "text/plain": [
       "<matplotlib.figure.Figure at 0x7bb835767ac8>"
      ]
     },
     "metadata": {},
     "output_type": "display_data"
    }
   ],
   "source": [
    "plt.plot(xs[0], ys[0], '.-')\n",
    "plt.plot(xs[1], ys[1], '.-')"
   ]
  },
  {
   "cell_type": "code",
   "execution_count": 14,
   "metadata": {},
   "outputs": [
    {
     "data": {
      "text/plain": [
       "<matplotlib.legend.Legend at 0x7bb834d43da0>"
      ]
     },
     "execution_count": 14,
     "metadata": {},
     "output_type": "execute_result"
    },
    {
     "data": {
      "image/png": "[encoded data removed]",
      "text/plain": [
       "<matplotlib.figure.Figure at 0x7bb83524c2e8>"
      ]
     },
     "metadata": {},
     "output_type": "display_data"
    }
   ],
   "source": [
    "xs = []\n",
    "ys = []\n",
    "x_ex = []\n",
    "y_ex = []\n",
    "\n",
    "x0 = 0.0\n",
    "y0 = 0.0\n",
    "vx0 = 0.0\n",
    "vy0 = 1.0\n",
    "\n",
    "potential = Potential()\n",
    "particles = [Particle(x0, y0, vx0, vy0, 1.0)]\n",
    "system = System(potential, particles)\n",
    "\n",
    "t_final = 10.0\n",
    "dt = 2.0\n",
    "ts = []\n",
    "\n",
    "while t_final > system.t:\n",
    "    xs.append(system.particles[0].x)\n",
    "    ys.append(system.particles[0].y)\n",
    "    x_ex.append(x0 + vx0 * system.t)\n",
    "    y_ex.append(y0 + vy0 * system.t +\n",
    "                0.5 * potential.acceleration * system.t**2)\n",
    "    ts.append(system.t)\n",
    "    system.update(dt)\n",
    "\n",
    "plt.plot(ts, y_ex, '.-', label='exact')\n",
    "plt.plot(ts, ys, '.-', label='integrated')\n",
    "plt.legend()"
   ]
  },
  {
   "cell_type": "code",
   "execution_count": 15,
   "metadata": {},
   "outputs": [
    {
     "data": {
      "text/plain": [
       "[<matplotlib.lines.Line2D at 0x7bb834d3a668>]"
      ]
     },
     "execution_count": 15,
     "metadata": {},
     "output_type": "execute_result"
    },
    {
     "data": {
      "image/png": "[encoded data removed]",
      "text/plain": [
       "<matplotlib.figure.Figure at 0x7bb8352b53c8>"
      ]
     },
     "metadata": {},
     "output_type": "display_data"
    }
   ],
   "source": [
    "y_ex = np.array(y_ex)\n",
    "ys = np.array(ys)\n",
    "\n",
    "plt.plot(ts, (np.abs(ys - y_ex)))"
   ]
  },
  {
   "cell_type": "code",
   "execution_count": null,
   "metadata": {},
   "outputs": [],
   "source": []
  }
 ],
 "metadata": {
  "kernelspec": {
   "display_name": "Python 3",
   "language": "python",
   "name": "python3"
  },
  "language_info": {
   "codemirror_mode": {
    "name": "ipython",
    "version": 3
   },
   "file_extension": ".py",
   "mimetype": "text/x-python",
   "name": "python",
   "nbconvert_exporter": "python",
   "pygments_lexer": "ipython3",
   "version": "3.6.4"
  }
 },
 "nbformat": 4,
 "nbformat_minor": 2
}
